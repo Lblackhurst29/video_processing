{
 "cells": [
  {
   "cell_type": "code",
   "execution_count": null,
   "metadata": {},
   "outputs": [],
   "source": [
    "import cv2\n",
    "import os\n",
    "import numpy as np\n",
    "import matplotlib.pyplot as plt"
   ]
  },
  {
   "cell_type": "code",
   "execution_count": null,
   "metadata": {},
   "outputs": [],
   "source": [
    "folder =  '/home/lab/Documents/all_vids/selected_vids/14_07_2023_CS_2' # change this to your folder with the selected videos"
   ]
  },
  {
   "cell_type": "code",
   "execution_count": null,
   "metadata": {},
   "outputs": [],
   "source": [
    "# get all the paths of the videos in the folder\n",
    "vid_paths = []\n",
    "for vid in os.listdir(folder):\n",
    "    vid = os.path.join(folder, vid)\n",
    "    if vid.endswith('.mov'):\n",
    "            vid_paths.append(vid)"
   ]
  },
  {
   "cell_type": "code",
   "execution_count": null,
   "metadata": {},
   "outputs": [],
   "source": [
    "def find_contours(input_file):\n",
    "\n",
    "    video_capture = cv2.VideoCapture(input_file)\n",
    "    \n",
    "    # Initialize variables\n",
    "    contour_diff_list = []\n",
    "\n",
    "    prev_frame = None\n",
    "    while True:\n",
    "        ret, frame = video_capture.read()\n",
    "        if not ret:\n",
    "            break\n",
    "\n",
    "        # converts the current frame to grayscale\n",
    "        gray = cv2.cvtColor(frame, cv2.COLOR_BGR2GRAY)\n",
    "        # applies a Gaussian blur to the grayscale frame, helps reduce noise and minor variations in pixel values \n",
    "        gray = cv2.GaussianBlur(gray, (21, 21), 0)\n",
    "\n",
    "        # Calculate contour difference using cv2.absdiff\n",
    "        if prev_frame is not None:\n",
    "            # difference betweeen the two frames\n",
    "            frame_delta = cv2.absdiff(prev_frame, gray)\n",
    "            # turns those parts about the theshold (30) t0 255 (white)\n",
    "            thresh = cv2.threshold(frame_delta, 30, 255, cv2.THRESH_BINARY)[1]\n",
    "            # morphological operation to dilate, this enhances the motion regions\n",
    "            thresh = cv2.dilate(thresh, None, iterations=2)\n",
    "            contours, _ = cv2.findContours(thresh.copy(), cv2.RETR_EXTERNAL, cv2.CHAIN_APPROX_SIMPLE) # cv2.RETR_EXTERNAL\n",
    "\n",
    "            # If no difference add 0, if multiple find the max and add it\n",
    "            if len(contours) == 0:\n",
    "                contour_diff_list.append(0)\n",
    "            else:\n",
    "                tmp_contours = []\n",
    "                for contour in contours:\n",
    "                    tmp_contours.append(cv2.contourArea(contour))\n",
    "                contour_diff_list.append(np.max(tmp_contours))\n",
    "\n",
    "\n",
    "        # Set the current frame as the previous frame for the next iteration\n",
    "        prev_frame = gray\n",
    "\n",
    "    # Release video capture and writers\n",
    "    video_capture.release()\n",
    "\n",
    "    return np.array(contour_diff_list)"
   ]
  },
  {
   "cell_type": "code",
   "execution_count": null,
   "metadata": {},
   "outputs": [],
   "source": [
    "# a function to plot the contour array\n",
    "def contour_plot(array, fps):\n",
    "    t_list = np.array((range(0, len(array)))) / fps  # can\n",
    "    ax.plot(t_list, array)"
   ]
  },
  {
   "cell_type": "code",
   "execution_count": null,
   "metadata": {},
   "outputs": [],
   "source": [
    "# Plots the first 20 files contour arrays, change to however many you want\n",
    "for i in range(20):\n",
    "    fig, ax = plt.subplots(figsize=(20, 6), layout='constrained')\n",
    "    contour_plot(find_contours(vid_paths[i]), 38)\n",
    "    plt.show()"
   ]
  }
 ],
 "metadata": {
  "kernelspec": {
   "display_name": ".venv",
   "language": "python",
   "name": "python3"
  },
  "language_info": {
   "codemirror_mode": {
    "name": "ipython",
    "version": 3
   },
   "file_extension": ".py",
   "mimetype": "text/x-python",
   "name": "python",
   "nbconvert_exporter": "python",
   "pygments_lexer": "ipython3",
   "version": "3.11.3"
  },
  "orig_nbformat": 4
 },
 "nbformat": 4,
 "nbformat_minor": 2
}
